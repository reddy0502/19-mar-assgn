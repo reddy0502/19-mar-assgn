{
 "cells": [
  {
   "cell_type": "markdown",
   "id": "8bfaa662-33fd-4b6d-bdf1-4a054a366fae",
   "metadata": {},
   "source": [
    "1ans:\n",
    "\n",
    "Min-Max scaling is a type of data scaling method used in data preprocessing to transform the range of features to a fixed range of values between 0 and 1. This method linearly scales the values in the feature to a new range by subtracting the minimum value from the feature and then dividing the result by the range of the feature (i.e., the difference between the maximum and minimum values).\n",
    "\n",
    "Min-Max scaling is useful when the features have different scales or ranges, and the values of the features need to be compared or used by a model that requires standardized input. This method preserves the relationship between the values of the features and is useful for some machine learning algorithms that require the input features to be in a specific range.\n",
    "\n",
    "For example, suppose you have a dataset that contains the height and weight of a group of people, and you want to use this data to train a machine learning model to predict whether a person is obese based on their height and weight. The height values range from 120 to 200 cm, and the weight values range from 40 to 120 kg. To apply Min-Max scaling to these features, you would first calculate the minimum and maximum values of each feature."
   ]
  },
  {
   "cell_type": "markdown",
   "id": "b524a736-e768-45ae-9d44-b81063985137",
   "metadata": {},
   "source": [
    "2ans:\n",
    "\n",
    "The Unit Vector technique is a type of feature scaling method used to transform the features to have a unit norm, i.e., the Euclidean norm of each data point becomes 1. In this technique, each data point is divided by its Euclidean norm, which results in a vector of length 1 pointing in the same direction as the original vector.\n",
    "\n",
    "Unit Vector scaling is useful when the direction of the data is more important than the magnitude of the data. This method is particularly useful for text data, such as in natural language processing, where the magnitude of the values is less important than the direction of the vectors.\n",
    "\n",
    "The main difference between Unit Vector scaling and Min-Max scaling is that Unit Vector scaling does not focus on the range of values in a feature, but rather the direction of the dat"
   ]
  },
  {
   "cell_type": "markdown",
   "id": "915209e9-e6f5-4770-bfec-fb63c615bca6",
   "metadata": {},
   "source": [
    "3ans:\n",
    "\n",
    "PCA (Principle Component Analysis) is a technique used for dimensionality reduction in data analysis. It is used to transform high-dimensional datasets into a smaller, more manageable set of variables, while retaining as much of the original variation in the data as possible. PCA works by finding a set of new variables, called principal components, that are linear combinations of the original variables.\n",
    "\n",
    "Here's an example to illustrate the application of PCA in dimensionality reduction:\n",
    "\n",
    "Suppose you have a dataset that contains information about customers of a grocery store, including their age, income, and purchase history. The dataset contains 1,000 customers and 20 different features. You want to reduce the number of features to 5 while retaining as much information as possible.\n",
    "\n",
    "To do this, you can apply PCA to the dataset. First, you standardize the data to ensure that each variable has zero mean and unit variance. Then, you calculate the covariance matrix of the data. The covariance matrix tells us how much two variables are related to each othe"
   ]
  },
  {
   "cell_type": "markdown",
   "id": "34977b62-65d3-4165-b0d4-763f6c7bdbe3",
   "metadata": {},
   "source": [
    "4ans:\n",
    "\n",
    "PCA (Principle Component Analysis) is a technique that can be used for both feature extraction and dimensionality reduction. In feature extraction, the goal is to transform the original set of features into a new set of features that captures the most important information in the data\n",
    "\n",
    "Here's an example to illustrate how PCA can be used for feature extraction:\n",
    "\n",
    "Suppose you have a dataset that contains information about different types of flowers, such as petal length, petal width, sepal length, and sepal width. You want to extract a set of features that captures the most important information in the data.\n",
    "\n",
    "To do this, you can apply PCA to the dataset. First, you standardize the data to ensure that each variable has zero mean and unit variance. Then, you calculate the covariance matrix of the data. The covariance matrix tells us how much two variables are related to each other.\n",
    "\n",
    "Next, you calculate the eigenvectors and eigenvalues of the covariance matrix. The eigenvectors represent the directions of maximum variance in the data, while the eigenvalues represent the amount of variance in each direction.\n",
    "\n",
    "You select the top eigenvectors that capture the most variation in the data. Let's say you select the first two eigenvectors, which account for 95% of the total variance in the data. You can then use these two eigenvectors as the new set of features.\n",
    "\n",
    "These new features are a linear combination of the original features, and they capture the most important information in the data. You can use these new features in your analysis, such as clustering the flowers into different groups based on their characteristic"
   ]
  },
  {
   "cell_type": "markdown",
   "id": "5458227e-dd78-4274-8790-d2947bf02002",
   "metadata": {},
   "source": [
    "5ans:\n",
    "\n",
    "in the context of the food delivery recommendation system, Min-Max scaling can be used to preprocess the data before building the recommendation model. Min-Max scaling is a technique that scales the data to a fixed range of values, typically between 0 and 1. The purpose of this scaling is to bring all the features into a similar range of values so that they can be compared on the same scale.\n",
    "\n",
    "Here's how you would use Min-Max scaling to preprocess the data for the food delivery recommendation system:\n",
    "\n",
    "First, you would select the features that you want to include in the recommendation model. In this case, you might select features such as price, rating, and delivery time.\n",
    "\n",
    "Next, you would apply Min-Max scaling to each feature separately. For each feature, you would subtract the minimum value of that feature from each data point and then divide by the range (i.e., the difference between the maximum and minimum values). This ensures that each feature is scaled to a range of 0 to 1.\n",
    "\n",
    "After scaling each feature, you would then use the scaled values in the recommendation model. For example, you might use a collaborative filtering algorithm to recommend food items to customers based on their past orders, with the scaled values for price, rating, and delivery time as input features"
   ]
  },
  {
   "cell_type": "markdown",
   "id": "5b7e2800-acae-4095-b3ec-02a0f8ad56f4",
   "metadata": {},
   "source": [
    "6ans:\n",
    "\n",
    "When dealing with a large number of features in a dataset, it can be difficult to build an accurate model due to the curse of dimensionality. In such cases, Principal Component Analysis (PCA) can be used as a technique for dimensionality reduction.\n",
    "\n",
    "PCA is a statistical method that can be used to reduce the number of features in a dataset by transforming the data into a new set of orthogonal features, called principal components. These principal components are ordered based on their variance, with the first principal component accounting for the most variance in the data.\n",
    "\n",
    "Here's how you could use PCA to reduce the dimensionality of the stock price prediction dataset:\n",
    "\n",
    "First, you would select the features that you want to include in the model. In this case, you might select features such as company financial data and market trends.\n",
    "\n",
    "Next, you would apply PCA to the selected features to transform them into a new set of principal components. The number of principal components you select will depend on how much variance you want to preserve in the data. Typically, you would select the first few principal components that account for most of the variance in the data.\n",
    "\n",
    "After applying PCA, you would then use the transformed data (i.e., the principal components) in the stock price prediction model. This would reduce the number of features and help to avoid the curse of dimensionality."
   ]
  },
  {
   "cell_type": "markdown",
   "id": "c7cf42ad-22b9-43af-80f8-7a266551677b",
   "metadata": {},
   "source": [
    "7ans:\n",
    "\n",
    "To perform Min-Max scaling to transform the values to a range of -1 to 1, we can use the following formula:\n",
    "\n",
    "x_scaled = (x - min(x)) / (max(x) - min(x)) * 2 - 1\n",
    "\n",
    "where x is the original value, min(x) and max(x) are the minimum and maximum values in the dataset, and x_scaled is the scaled value.\n",
    "\n",
    "Using this formula, we can scale the dataset [1, 5, 10, 15, 20] to a range of -1 to 1 as follows:\n",
    "\n",
    "min(x) = 1\n",
    "max(x) = 20\n",
    "\n",
    "For the first value, x=1:\n",
    "\n",
    "x_scaled = (1 - 1) / (20 - 1) * 2 - 1 = -0.7778\n",
    "\n",
    "For the second value, x=5:\n",
    "\n",
    "x_scaled = (5 - 1) / (20 - 1) * 2 - 1 = -0.1111\n",
    "\n",
    "For the third value, x=10:\n",
    "\n",
    "x_scaled = (10 - 1) / (20 - 1) * 2 - 1 = 0.5556\n",
    "\n",
    "For the fourth value, x=15:\n",
    "\n",
    "x_scaled = (15 - 1) / (20 - 1) * 2 - 1 = 0.8889\n",
    "\n",
    "For the fifth value, x=20:\n",
    "\n",
    "x_scaled = (20 - 1) / (20 - 1) * 2 - 1 = 1.0000\n",
    "\n",
    "Therefore, the Min-Max scaled dataset with values transformed to a range of -1 to 1 would be [-0.7778, -0.1111, 0.5556, 0.8889, 1.0000]."
   ]
  },
  {
   "cell_type": "markdown",
   "id": "a7afa938-9bb1-43ad-a825-0abc99465842",
   "metadata": {},
   "source": [
    "8ans:\n",
    "\n",
    "To perform Feature Extraction using PCA on the given dataset with features [height, weight, age, gender, blood pressure], we would first standardize the data by subtracting the mean and scaling to unit variance. Then we would compute the principal components and their corresponding variances. We would then decide how many principal components to retain based on the amount of variance explained by each component.\n",
    "\n",
    "The number of principal components to retain depends on the amount of variance we want to retain in the dataset. We can determine the optimal number of principal components by looking at the scree plot, which shows the amount of variance explained by each component. Typically, we choose the number of components that explain at least 70-80% of the variance in the data"
   ]
  },
  {
   "cell_type": "code",
   "execution_count": null,
   "id": "51ca3745-f222-4880-9743-d93dab4d9e46",
   "metadata": {},
   "outputs": [],
   "source": []
  }
 ],
 "metadata": {
  "kernelspec": {
   "display_name": "Python 3 (ipykernel)",
   "language": "python",
   "name": "python3"
  },
  "language_info": {
   "codemirror_mode": {
    "name": "ipython",
    "version": 3
   },
   "file_extension": ".py",
   "mimetype": "text/x-python",
   "name": "python",
   "nbconvert_exporter": "python",
   "pygments_lexer": "ipython3",
   "version": "3.10.8"
  }
 },
 "nbformat": 4,
 "nbformat_minor": 5
}
